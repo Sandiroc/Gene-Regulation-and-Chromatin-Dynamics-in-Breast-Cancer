{
 "cells": [
  {
   "cell_type": "markdown",
   "id": "7dcdb3b1",
   "metadata": {},
   "source": [
    "#### Plotting Distances between Correlation Coefficients per Sample\n",
    "\n",
    "The Pearson correlation coefficient was used in this pipeline. This is because we are trying to confirm a direct relationship between the two replicates. This allows us to check if enrichment levels are strong & consistent across both replicates at specific loci, rather than ranking individual regions and comparing the rankings. Because this pipeline is analyzing continuous data that models a direct relationship, the Spearman coefficient is likely not the best choice."
   ]
  },
  {
   "cell_type": "markdown",
   "id": "90875d14",
   "metadata": {},
   "source": [
    "#### Consensus Set of Peaks\n",
    "Only peaks from the first sample that overlap at minimum 50% with peaks from the second sample are included. This ensures that only peaks identified in both a moderate number of times are included while still filtering out signals specific to a single sample"
   ]
  },
  {
   "cell_type": "markdown",
   "id": "ad70ebd2",
   "metadata": {},
   "source": [
    "#### Removing Blacklisted Regions\n",
    "I removed any entries in the BED that overlap by at least 1 bp in the blacklisted BED. This removes any problematic genomic regions which can increase confidence in the output."
   ]
  },
  {
   "cell_type": "markdown",
   "id": "6020998c",
   "metadata": {},
   "source": [
    "#### Plot Profile\n",
    "![img](../results/input_group_signal_coverage.png)\n",
    "\n",
    "The figure shows the average read coverage from the two samples across the hg38 Human genome. The Deeptools computeMatrix tool was used with 2000 bp of padding for each gene. Both samples have an enriched signal around the transcription start site suggesting activity at promoter regions. These samples exhibit the expected behavior as they peak near the TSS, experience a sharp decline afterwards, and stagnate after the transcription end site."
   ]
  },
  {
   "cell_type": "markdown",
   "id": "056fc3bc",
   "metadata": {},
   "source": [
    "#### Finding Enriched Motifs in ChIP-seq Peaks"
   ]
  },
  {
   "cell_type": "code",
   "execution_count": 2,
   "id": "9c02a401",
   "metadata": {},
   "outputs": [
    {
     "data": {
      "text/html": [
       "<div>\n",
       "<style scoped>\n",
       "    .dataframe tbody tr th:only-of-type {\n",
       "        vertical-align: middle;\n",
       "    }\n",
       "\n",
       "    .dataframe tbody tr th {\n",
       "        vertical-align: top;\n",
       "    }\n",
       "\n",
       "    .dataframe thead th {\n",
       "        text-align: right;\n",
       "    }\n",
       "</style>\n",
       "<table border=\"1\" class=\"dataframe\">\n",
       "  <thead>\n",
       "    <tr style=\"text-align: right;\">\n",
       "      <th></th>\n",
       "      <th>Motif Name</th>\n",
       "      <th>Consensus</th>\n",
       "      <th>P-value</th>\n",
       "      <th>Log P-value</th>\n",
       "      <th>q-value (Benjamini)</th>\n",
       "      <th># of Target Sequences with Motif(of 3026)</th>\n",
       "      <th>% of Target Sequences with Motif</th>\n",
       "      <th># of Background Sequences with Motif(of 43414)</th>\n",
       "      <th>% of Background Sequences with Motif</th>\n",
       "    </tr>\n",
       "  </thead>\n",
       "  <tbody>\n",
       "    <tr>\n",
       "      <th>0</th>\n",
       "      <td>RUNX(Runt)/HPC7-Runx1-ChIP-Seq(GSE22178)/Homer</td>\n",
       "      <td>SAAACCACAG</td>\n",
       "      <td>0.000000e+00</td>\n",
       "      <td>-965.7</td>\n",
       "      <td>0.0</td>\n",
       "      <td>923.0</td>\n",
       "      <td>30.50%</td>\n",
       "      <td>2309.6</td>\n",
       "      <td>5.32%</td>\n",
       "    </tr>\n",
       "    <tr>\n",
       "      <th>1</th>\n",
       "      <td>RUNX1(Runt)/Jurkat-RUNX1-ChIP-Seq(GSE29180)/Homer</td>\n",
       "      <td>AAACCACARM</td>\n",
       "      <td>1.000000e-310</td>\n",
       "      <td>-715.2</td>\n",
       "      <td>0.0</td>\n",
       "      <td>925.0</td>\n",
       "      <td>30.57%</td>\n",
       "      <td>3195.7</td>\n",
       "      <td>7.36%</td>\n",
       "    </tr>\n",
       "    <tr>\n",
       "      <th>2</th>\n",
       "      <td>RUNX2(Runt)/PCa-RUNX2-ChIP-Seq(GSE33889)/Homer</td>\n",
       "      <td>NWAACCACADNN</td>\n",
       "      <td>1.000000e-204</td>\n",
       "      <td>-470.6</td>\n",
       "      <td>0.0</td>\n",
       "      <td>704.0</td>\n",
       "      <td>23.27%</td>\n",
       "      <td>2681.9</td>\n",
       "      <td>6.18%</td>\n",
       "    </tr>\n",
       "    <tr>\n",
       "      <th>3</th>\n",
       "      <td>RUNX-AML(Runt)/CD4+-PolII-ChIP-Seq(Barski_et_a...</td>\n",
       "      <td>GCTGTGGTTW</td>\n",
       "      <td>1.000000e-196</td>\n",
       "      <td>-453.5</td>\n",
       "      <td>0.0</td>\n",
       "      <td>648.0</td>\n",
       "      <td>21.41%</td>\n",
       "      <td>2353.0</td>\n",
       "      <td>5.42%</td>\n",
       "    </tr>\n",
       "    <tr>\n",
       "      <th>4</th>\n",
       "      <td>Foxa2(Forkhead)/Liver-Foxa2-ChIP-Seq(GSE25694)...</td>\n",
       "      <td>CYTGTTTACWYW</td>\n",
       "      <td>1.000000e-93</td>\n",
       "      <td>-214.7</td>\n",
       "      <td>0.0</td>\n",
       "      <td>387.0</td>\n",
       "      <td>12.79%</td>\n",
       "      <td>1647.9</td>\n",
       "      <td>3.80%</td>\n",
       "    </tr>\n",
       "    <tr>\n",
       "      <th>5</th>\n",
       "      <td>FOXA1(Forkhead)/LNCAP-FOXA1-ChIP-Seq(GSE27824)...</td>\n",
       "      <td>WAAGTAAACA</td>\n",
       "      <td>1.000000e-86</td>\n",
       "      <td>-199.3</td>\n",
       "      <td>0.0</td>\n",
       "      <td>474.0</td>\n",
       "      <td>15.66%</td>\n",
       "      <td>2462.4</td>\n",
       "      <td>5.67%</td>\n",
       "    </tr>\n",
       "    <tr>\n",
       "      <th>6</th>\n",
       "      <td>Fosl2(bZIP)/3T3L1-Fosl2-ChIP-Seq(GSE56872)/Homer</td>\n",
       "      <td>NATGASTCABNN</td>\n",
       "      <td>1.000000e-86</td>\n",
       "      <td>-199.1</td>\n",
       "      <td>0.0</td>\n",
       "      <td>241.0</td>\n",
       "      <td>7.96%</td>\n",
       "      <td>712.1</td>\n",
       "      <td>1.64%</td>\n",
       "    </tr>\n",
       "    <tr>\n",
       "      <th>7</th>\n",
       "      <td>Fra2(bZIP)/Striatum-Fra2-ChIP-Seq(GSE43429)/Homer</td>\n",
       "      <td>GGATGACTCATC</td>\n",
       "      <td>1.000000e-85</td>\n",
       "      <td>-195.9</td>\n",
       "      <td>0.0</td>\n",
       "      <td>283.0</td>\n",
       "      <td>9.35%</td>\n",
       "      <td>994.4</td>\n",
       "      <td>2.29%</td>\n",
       "    </tr>\n",
       "    <tr>\n",
       "      <th>8</th>\n",
       "      <td>GRHL2(CP2)/HBE-GRHL2-ChIP-Seq(GSE46194)/Homer</td>\n",
       "      <td>AAACYKGTTWDACMRGTTTB</td>\n",
       "      <td>1.000000e-84</td>\n",
       "      <td>-194.4</td>\n",
       "      <td>0.0</td>\n",
       "      <td>270.0</td>\n",
       "      <td>8.92%</td>\n",
       "      <td>914.5</td>\n",
       "      <td>2.11%</td>\n",
       "    </tr>\n",
       "    <tr>\n",
       "      <th>9</th>\n",
       "      <td>FOXA1(Forkhead)/MCF7-FOXA1-ChIP-Seq(GSE26831)/...</td>\n",
       "      <td>WAAGTAAACA</td>\n",
       "      <td>1.000000e-82</td>\n",
       "      <td>-190.1</td>\n",
       "      <td>0.0</td>\n",
       "      <td>412.0</td>\n",
       "      <td>13.62%</td>\n",
       "      <td>2004.0</td>\n",
       "      <td>4.62%</td>\n",
       "    </tr>\n",
       "  </tbody>\n",
       "</table>\n",
       "</div>"
      ],
      "text/plain": [
       "                                          Motif Name             Consensus  \\\n",
       "0     RUNX(Runt)/HPC7-Runx1-ChIP-Seq(GSE22178)/Homer            SAAACCACAG   \n",
       "1  RUNX1(Runt)/Jurkat-RUNX1-ChIP-Seq(GSE29180)/Homer            AAACCACARM   \n",
       "2     RUNX2(Runt)/PCa-RUNX2-ChIP-Seq(GSE33889)/Homer          NWAACCACADNN   \n",
       "3  RUNX-AML(Runt)/CD4+-PolII-ChIP-Seq(Barski_et_a...            GCTGTGGTTW   \n",
       "4  Foxa2(Forkhead)/Liver-Foxa2-ChIP-Seq(GSE25694)...          CYTGTTTACWYW   \n",
       "5  FOXA1(Forkhead)/LNCAP-FOXA1-ChIP-Seq(GSE27824)...            WAAGTAAACA   \n",
       "6   Fosl2(bZIP)/3T3L1-Fosl2-ChIP-Seq(GSE56872)/Homer          NATGASTCABNN   \n",
       "7  Fra2(bZIP)/Striatum-Fra2-ChIP-Seq(GSE43429)/Homer          GGATGACTCATC   \n",
       "8      GRHL2(CP2)/HBE-GRHL2-ChIP-Seq(GSE46194)/Homer  AAACYKGTTWDACMRGTTTB   \n",
       "9  FOXA1(Forkhead)/MCF7-FOXA1-ChIP-Seq(GSE26831)/...            WAAGTAAACA   \n",
       "\n",
       "         P-value  Log P-value  q-value (Benjamini)  \\\n",
       "0   0.000000e+00       -965.7                  0.0   \n",
       "1  1.000000e-310       -715.2                  0.0   \n",
       "2  1.000000e-204       -470.6                  0.0   \n",
       "3  1.000000e-196       -453.5                  0.0   \n",
       "4   1.000000e-93       -214.7                  0.0   \n",
       "5   1.000000e-86       -199.3                  0.0   \n",
       "6   1.000000e-86       -199.1                  0.0   \n",
       "7   1.000000e-85       -195.9                  0.0   \n",
       "8   1.000000e-84       -194.4                  0.0   \n",
       "9   1.000000e-82       -190.1                  0.0   \n",
       "\n",
       "   # of Target Sequences with Motif(of 3026) % of Target Sequences with Motif  \\\n",
       "0                                      923.0                           30.50%   \n",
       "1                                      925.0                           30.57%   \n",
       "2                                      704.0                           23.27%   \n",
       "3                                      648.0                           21.41%   \n",
       "4                                      387.0                           12.79%   \n",
       "5                                      474.0                           15.66%   \n",
       "6                                      241.0                            7.96%   \n",
       "7                                      283.0                            9.35%   \n",
       "8                                      270.0                            8.92%   \n",
       "9                                      412.0                           13.62%   \n",
       "\n",
       "   # of Background Sequences with Motif(of 43414)  \\\n",
       "0                                          2309.6   \n",
       "1                                          3195.7   \n",
       "2                                          2681.9   \n",
       "3                                          2353.0   \n",
       "4                                          1647.9   \n",
       "5                                          2462.4   \n",
       "6                                           712.1   \n",
       "7                                           994.4   \n",
       "8                                           914.5   \n",
       "9                                          2004.0   \n",
       "\n",
       "  % of Background Sequences with Motif  \n",
       "0                                5.32%  \n",
       "1                                7.36%  \n",
       "2                                6.18%  \n",
       "3                                5.42%  \n",
       "4                                3.80%  \n",
       "5                                5.67%  \n",
       "6                                1.64%  \n",
       "7                                2.29%  \n",
       "8                                2.11%  \n",
       "9                                4.62%  "
      ]
     },
     "execution_count": 2,
     "metadata": {},
     "output_type": "execute_result"
    }
   ],
   "source": [
    "import pandas as pd\n",
    "\n",
    "# load from results\n",
    "motif_df = pd.read_csv(\"results/motifs/knownResults.txt\", sep='\\t')\n",
    "\n",
    "# top 10 enriched motifs\n",
    "motif_df.head(10)"
   ]
  },
  {
   "cell_type": "markdown",
   "id": "eda5a447",
   "metadata": {},
   "source": [
    "This analysis revealed primarily the RUNX and FOXA motif families at the top of the enriched motifs. The RUNX motif family has exhibited extremely low p-values and are present in 20-30% of the sequences, suggesting a strong enrichment. Similarly, the FOXA family has low p-values and are present in 12-15% of the sequences. The original sample was likely encoding some DNA-protein interactions and transcription regulators. "
   ]
  },
  {
   "cell_type": "markdown",
   "id": "b18b51d0",
   "metadata": {},
   "source": [
    "#### Methods\n",
    "\n",
    "In this study, a reproducible ChIPseq pipeline using NextFlow (v24.04.2) to process & analyze raw sequencing reads was developed. The pipeline handles read processing, quality control, alignment, peak calling, and functional annotation. Each tool in this pipeline was containerized using images hosted on the Boston University BF528 Container Registry on GitHub. \n",
    "\n",
    "Raw paired-end sequences obtained from a ChIPseq experiment underwent quality assessment with FastQC. Subsequently quality control (including trimming of adapter sequences, low-quality bases, and below average regions) was performed with Trimmomatic (v0.39). Reads were trimmed using the IlluminaClip function (2:3:10), with 3 leading/trailing nt clipped, and a sliding window of 4:15. A Bowtie2 (2.5.4) index was generated using the GRCh38 reference genome and the cleaned reads were mapped to the index using Bowtie2. The results of Samtools (v1.21) flagstat on the alignment was aggregated with the FastQC results to generate a comprehensive quality assessment report with MultiQC (v1.25). The aligned dataset was then sorted & indexed with Samtools. Deeptools (v3.5.5) was used for downstream analysis. Coverage signals were then calculated for each replicate using Deeptools BamCoverage to transform BED inputs to normalized BigWig files and compared using Deeptools MultiBigWigSummary. The Spearman correlation coefficient was also calculated to assess the similarity between the replicates and visualized using Deeptools plotCorrelation. Peak calling was performed with MACS3 (v3.0.2) to identify significant regions in the sequencing data with otherwise default parameters. The peak files were processed using primarily Bedtools (v2.31.1). The peak files were intersected with the bedtools intersect tool to isolate peaks that are duplicated in both replicates at least 50% of the time. Peaks overlapping any blacklisted regions with a 0 bp tolerance were also removed. The blacklist was generated by the Boston University Boyle Lab as a part of the ENCODE project. The filtered peaks were annotated and analyzed using Homer (v4.11). Specifically, filtered peaks were annotated using Homer annotatePeaks.pl using the GRCh38 GTF to determine the distribution of reads. Homer findMotifsGenome.pl with parameters of size = 200 and mask was used to perform a motif enrichment analysis against the masked GRCh38 reference. The top 10 enriched motifs were extracted from the findMotifsGenome.pl results. ChIP signals were visualized by first passing IP samples to Deeptools computeMatrix in scale-regions mode against GRCh38 with 2000 bp padding on either end of the gene. This matrix was visualized using Deeptools plotProfile to produce a plot of read density across genes in the reference genome. "
   ]
  },
  {
   "cell_type": "markdown",
   "id": "8e1d33fe",
   "metadata": {},
   "source": [
    "#### MultiQC Report\n",
    "The ChIPseq reads showed overall high quality, across both replicates. Phred scores for base quality were consistently > 30 indicating high mean base quality. Similarly, Phred scores for sequence quality were also consistently > 30, indicating high individual sequence quality. Furthermore, any low quality regions and adapter contamination was trimmed by Trimmomatic. These metrics confirm that the ChIPseq dataset is of good quality and will produce reliable downstream analyses. "
   ]
  },
  {
   "cell_type": "markdown",
   "id": "35ed47fc",
   "metadata": {},
   "source": [
    "#### Recreated Figure 2F\n",
    "\n",
    "![img](../results/figure_2c.png)"
   ]
  },
  {
   "cell_type": "markdown",
   "id": "8d1a090c",
   "metadata": {},
   "source": [
    "In the recreated figure 2F, there was a noticeably smaller number of genes that were both differentially expressed and tied to the RUNX1 transcription factor compared to the original figure. Differences in the workflow & analyses on the same raw ChIP-seq reads is likely what caused this disagreement. This pipeline required 50% of peaks to overlap across replicates. This threshold could be more strict than what was originally used. There could also be discrepancies in the peak annotation method between the original study and this replication. This pipeline used MACS3 to identify and call peaks whereas the original study used the HOMER suite for both peak calling and annotation. Additionally, by looking at both ChIPseq data and RNAseq data, it is much easier to identify direct targets of the RUNX1 transcription factor (genes where ChIPseq peaks and RNAseq shows it is differentially expressed)."
   ]
  },
  {
   "cell_type": "markdown",
   "id": "f5aa1b14",
   "metadata": {},
   "source": [
    "#### Recreated Figure 2D (MALAT1)\n",
    "![img](../results/figure_2d.png)"
   ]
  },
  {
   "cell_type": "markdown",
   "id": "a9ac6a07",
   "metadata": {},
   "source": [
    "#### Recreated Figure 2E (NEAT1)\n",
    "![img](../results/figure_2e.png)"
   ]
  },
  {
   "cell_type": "markdown",
   "id": "c608fcd8",
   "metadata": {},
   "source": [
    "There was a strong ChIPseq signal enrichment evidenced by the peaks across the IP replicates overlapping the MALAT1 gene. The signal peaks that were identified also aligned with the output of the peak calling technique employed in this pipeline, even after extensive filtering. This was less apparent for the NEAT1 mapping but the IP replicates were relatively overlapped. However, the genomic tracks here appear different to the tones highlighted in the original publication as there are still differences in peak height and distribution. Futhermore, the tool used in this scenario, IGV (v2.19.3), identified the MALAT1 and NEAT1 genes at different chromosomal coordinates compared to the original study. That is likely where a majority of the difference is coming from. "
   ]
  },
  {
   "cell_type": "markdown",
   "id": "ac80f063",
   "metadata": {},
   "source": [
    "#### Figure S2A"
   ]
  },
  {
   "cell_type": "code",
   "execution_count": null,
   "id": "6e927c06",
   "metadata": {},
   "outputs": [],
   "source": [
    "import pandas as pd\n",
    "import os\n",
    "import gzip\n",
    "import re\n",
    "\n",
    "# Load the sample sheet\n",
    "samples_df = pd.read_csv(\"../full_samplesheet.csv\")\n",
    "\n",
    "# flagstat results directory\n",
    "flagstat_dir = \"../results/\"\n",
    "\n",
    "# initialize output list\n",
    "records = []\n",
    "\n",
    "# sample type renaming map\n",
    "name_map = {\n",
    "    \"IP\": \"RUNX1 ChIP\",\n",
    "    \"INPUT\": \"INPUT\"\n",
    "}\n",
    "\n",
    "# each sample\n",
    "for _, row in samples_df.iterrows():\n",
    "    sample = row[\"name\"]\n",
    "    fastq_path = row[\"path\"]\n",
    "    flagstat_path = os.path.join(flagstat_dir, f\"{sample}_flagstat.txt\")\n",
    "\n",
    "    # extract type and replicate number\n",
    "    match = re.match(r\"(IP|INPUT)_rep(\\d+)\", sample)\n",
    "    if not match:\n",
    "        continue\n",
    "    sample_type_key, replicate = match.groups()\n",
    "    sample_type = name_map.get(sample_type_key, sample_type_key)\n",
    "\n",
    "    # count raw reads from .fastq.gz\n",
    "    with gzip.open(fastq_path, \"rt\") as fq:\n",
    "        raw_reads = sum(1 for _ in fq) // 4\n",
    "\n",
    "    # extract mapped reads\n",
    "    mapped_reads = None\n",
    "    with open(flagstat_path, \"r\") as f:\n",
    "        for line in f:\n",
    "            if \" mapped (\" in line and \"primary\" not in line:\n",
    "                mapped_reads = int(line.strip().split()[0])\n",
    "                break\n",
    "\n",
    "    records.append({\n",
    "        \"Sample Name\": sample_type,\n",
    "        \"Biological Replicate\": int(replicate),\n",
    "        \"Raw Reads\": raw_reads,\n",
    "        \"Mapped Reads\": mapped_reads\n",
    "    })"
   ]
  },
  {
   "cell_type": "code",
   "execution_count": 11,
   "id": "c76916fd",
   "metadata": {},
   "outputs": [
    {
     "name": "stdout",
     "output_type": "stream",
     "text": [
      "  Sample Name  Biological Replicate   Raw Reads Mapped Reads\n",
      "0       INPUT                     1  30,075,142   28,870,437\n",
      "1       INPUT                     2  10,900,442   10,189,399\n",
      "2  RUNX1 ChIP                     1  29,734,121   28,098,601\n",
      "3  RUNX1 ChIP                     2  29,988,988   28,468,440\n"
     ]
    }
   ],
   "source": [
    "# Create DataFrame and format\n",
    "df = pd.DataFrame(records)\n",
    "df = df.sort_values(by=[\"Sample Name\", \"Biological Replicate\"])\n",
    "df[\"Raw Reads\"] = df[\"Raw Reads\"].apply(lambda x: f\"{x:,}\")\n",
    "df[\"Mapped Reads\"] = df[\"Mapped Reads\"].apply(lambda x: f\"{x:,}\")\n",
    "\n",
    "# Display the table\n",
    "df.reset_index(drop=True, inplace=True)\n",
    "print(df)"
   ]
  },
  {
   "cell_type": "markdown",
   "id": "a013ce78",
   "metadata": {},
   "source": [
    "The raw read counts are the same as in the original study (the ChIPseq data was obtained from this study) but the mapped reads are slightly different. This discrepancy could be caused by a difference in data pre-prcessing techniques. This pipeline performed adapter trimming & quality control using a set of defined trimming criteria (leading/trailing 3-mers are trimmed with a sliding window of 4:15). The original pipeline like employed a stricter set of criteria which resulted in less mapped reads. The original pipeline could have also filtered out more reads during the processing stage. This pipeline includes all primary mapped reads in its analysis and never filters out things such as PCR duplicates, which also might not have been done in the original pipeline."
   ]
  },
  {
   "cell_type": "markdown",
   "id": "43bb8990",
   "metadata": {},
   "source": [
    "#### Figure S2B for this pipeline\n",
    "\n",
    "![img](../results/pearson_plot.png)"
   ]
  },
  {
   "cell_type": "markdown",
   "id": "bc6d2b83",
   "metadata": {},
   "source": [
    "There was a minute discrepancy in the Pearson Correlation plot generated by this pipeline and the workflow detailed in the original study. The exact correlation coefficients differ, likely due to differences in peak calling thresholds, quality control parameters, etc. Regardless, the authors of the original paper likely used this plot to confirm that their dataset was reliable & reproducible. The input samples correlated strongly with each other, indicating that the background signal is consistent, while the RUNX1 samples do not correlate as strongly. This indicates that the ChIPseq signal is specific to the library rather than just background noise. Both figures show that the experiment worked well and captured real DNA binding sites. "
   ]
  },
  {
   "cell_type": "markdown",
   "id": "f5d7eeb1",
   "metadata": {},
   "source": [
    "#### Figure S2C"
   ]
  },
  {
   "cell_type": "code",
   "execution_count": null,
   "id": "2689b96f",
   "metadata": {},
   "outputs": [
    {
     "data": {
      "image/png": "[encoded data removed]",
      "text/plain": [
       "<Figure size 600x600 with 1 Axes>"
      ]
     },
     "metadata": {},
     "output_type": "display_data"
    }
   ],
   "source": [
    "import matplotlib.pyplot as plt\n",
    "from matplotlib_venn import venn2\n",
    "\n",
    "# count lines in the BED files\n",
    "def count_lines(filepath):\n",
    "    with open(filepath) as f:\n",
    "        return sum(1 for _ in f)\n",
    "\n",
    "# paths to your BED files\n",
    "rep1_path = \"../rep1_peaks.bed\"\n",
    "rep2_path = \"../rep2_peaks.bed\"\n",
    "overlap_path = \"../results/repr_peaks.bed\"\n",
    "\n",
    "# get counts\n",
    "rep1_total = count_lines(rep1_path)\n",
    "rep2_total = count_lines(rep2_path)\n",
    "overlap = count_lines(overlap_path)\n",
    "\n",
    "# unique values\n",
    "only_rep1 = rep1_total - overlap\n",
    "only_rep2 = rep2_total - overlap\n",
    "\n",
    "# plot\n",
    "plt.figure(figsize=(6, 6))\n",
    "venn2(subsets=(only_rep1, only_rep2, overlap),\n",
    "      set_labels=('Rep1', 'Rep2'),\n",
    "      set_colors=('red', 'blue'),\n",
    "      alpha=0.6)\n",
    "\n",
    "plt.title(\"Peak Overlap Between Replicates (RUNX1)\")\n",
    "plt.show()\n"
   ]
  },
  {
   "cell_type": "markdown",
   "id": "d3f83d8d",
   "metadata": {},
   "source": [
    "The results from thie peak analysis shows 3349 shared peaks between the two replicates, compared to 3466 reported by the original study. The replicates here reported a higher number of unique peaks than reported in the original study. One reason this could have happened is discrepancies in peak calling parameters. This pipeline used MACS3 to identify and call peaks whereas the original study used the HOMER suite for both peak calling and annotation. Another factor is the difference in read depth these replicates had more mapped reads than those in the original study, potentially resulting in additional weak peaks being called that were filtered out in the original analysis."
   ]
  },
  {
   "cell_type": "code",
   "execution_count": null,
   "id": "13451902",
   "metadata": {},
   "outputs": [
    {
     "ename": "Exception",
     "evalue": "Error sending gene list, try again later",
     "output_type": "error",
     "traceback": [
      "\u001b[31m---------------------------------------------------------------------------\u001b[39m",
      "\u001b[31mException\u001b[39m                                 Traceback (most recent call last)",
      "\u001b[36mCell\u001b[39m\u001b[36m \u001b[39m\u001b[32mIn[19]\u001b[39m\u001b[32m, line 14\u001b[39m\n\u001b[32m     11\u001b[39m top_genes = annot[\u001b[33m'\u001b[39m\u001b[33mGene Name\u001b[39m\u001b[33m'\u001b[39m].dropna().unique().tolist()[:\u001b[32m100\u001b[39m]\n\u001b[32m     13\u001b[39m \u001b[38;5;66;03m# Run enrichment (you can also use 'KEGG_2021_Human', 'GO_Molecular_Function_2021', etc.)\u001b[39;00m\n\u001b[32m---> \u001b[39m\u001b[32m14\u001b[39m enr = \u001b[43mgp\u001b[49m\u001b[43m.\u001b[49m\u001b[43menrichr\u001b[49m\u001b[43m(\u001b[49m\u001b[43mgene_list\u001b[49m\u001b[43m=\u001b[49m\u001b[43mtop_genes\u001b[49m\u001b[43m,\u001b[49m\n\u001b[32m     15\u001b[39m \u001b[43m                 \u001b[49m\u001b[43mgene_sets\u001b[49m\u001b[43m=\u001b[49m\u001b[33;43m'\u001b[39;49m\u001b[33;43mGO_Biological_Process_2021\u001b[39;49m\u001b[33;43m'\u001b[39;49m\u001b[43m,\u001b[49m\n\u001b[32m     16\u001b[39m \u001b[43m                 \u001b[49m\u001b[43morganism\u001b[49m\u001b[43m=\u001b[49m\u001b[33;43m'\u001b[39;49m\u001b[33;43mHuman\u001b[39;49m\u001b[33;43m'\u001b[39;49m\u001b[43m,\u001b[49m\n\u001b[32m     17\u001b[39m \u001b[43m                 \u001b[49m\u001b[43moutdir\u001b[49m\u001b[43m=\u001b[49m\u001b[38;5;28;43;01mNone\u001b[39;49;00m\u001b[43m,\u001b[49m\u001b[43m  \u001b[49m\u001b[38;5;66;43;03m# don't write to disk\u001b[39;49;00m\n\u001b[32m     18\u001b[39m \u001b[43m                 \u001b[49m\u001b[43mcutoff\u001b[49m\u001b[43m=\u001b[49m\u001b[32;43m0.05\u001b[39;49m\u001b[43m   \u001b[49m\u001b[38;5;66;43;03m# Adjusted p-value threshold\u001b[39;49;00m\n\u001b[32m     19\u001b[39m \u001b[43m                \u001b[49m\u001b[43m)\u001b[49m\n\u001b[32m     21\u001b[39m \u001b[38;5;66;03m# top 10 enriched terms as a barplot\u001b[39;00m\n\u001b[32m     22\u001b[39m gp.barplot(enr.results.head(\u001b[32m10\u001b[39m), \n\u001b[32m     23\u001b[39m            title=\u001b[33m'\u001b[39m\u001b[33mTop 10 GO:BP Enriched Terms\u001b[39m\u001b[33m'\u001b[39m,\n\u001b[32m     24\u001b[39m            figsize=(\u001b[32m6\u001b[39m,\u001b[32m5\u001b[39m))\n",
      "\u001b[36mFile \u001b[39m\u001b[32m/projectnb/bf528/students/bsandi/.conda/envs/project2_env/lib/python3.11/site-packages/gseapy/__init__.py:554\u001b[39m, in \u001b[36menrichr\u001b[39m\u001b[34m(gene_list, gene_sets, organism, outdir, background, cutoff, format, figsize, top_term, no_plot, verbose)\u001b[39m\n\u001b[32m    552\u001b[39m \u001b[38;5;66;03m# set organism\u001b[39;00m\n\u001b[32m    553\u001b[39m enr.set_organism()\n\u001b[32m--> \u001b[39m\u001b[32m554\u001b[39m \u001b[43menr\u001b[49m\u001b[43m.\u001b[49m\u001b[43mrun\u001b[49m\u001b[43m(\u001b[49m\u001b[43m)\u001b[49m\n\u001b[32m    556\u001b[39m \u001b[38;5;28;01mreturn\u001b[39;00m enr\n",
      "\u001b[36mFile \u001b[39m\u001b[32m/projectnb/bf528/students/bsandi/.conda/envs/project2_env/lib/python3.11/site-packages/gseapy/enrichr.py:656\u001b[39m, in \u001b[36mEnrichr.run\u001b[39m\u001b[34m(self)\u001b[39m\n\u001b[32m    654\u001b[39m         shortID, res = \u001b[38;5;28mself\u001b[39m.get_results_with_background(genes_list, bg)\n\u001b[32m    655\u001b[39m     \u001b[38;5;28;01melse\u001b[39;00m:\n\u001b[32m--> \u001b[39m\u001b[32m656\u001b[39m         shortID, res = \u001b[38;5;28;43mself\u001b[39;49m\u001b[43m.\u001b[49m\u001b[43mget_results\u001b[49m\u001b[43m(\u001b[49m\u001b[43mgenes_list\u001b[49m\u001b[43m)\u001b[49m\n\u001b[32m    658\u001b[39m \u001b[38;5;66;03m# Remember gene set library used\u001b[39;00m\n\u001b[32m    659\u001b[39m res.insert(\u001b[32m0\u001b[39m, \u001b[33m\"\u001b[39m\u001b[33mGene_set\u001b[39m\u001b[33m\"\u001b[39m, name)\n",
      "\u001b[36mFile \u001b[39m\u001b[32m/projectnb/bf528/students/bsandi/.conda/envs/project2_env/lib/python3.11/site-packages/gseapy/enrichr.py:329\u001b[39m, in \u001b[36mEnrichr.get_results\u001b[39m\u001b[34m(self, gene_list)\u001b[39m\n\u001b[32m    327\u001b[39m ADDLIST_URL = \u001b[33m\"\u001b[39m\u001b[38;5;132;01m%s\u001b[39;00m\u001b[33m/\u001b[39m\u001b[38;5;132;01m%s\u001b[39;00m\u001b[33m/addList\u001b[39m\u001b[33m\"\u001b[39m % (\u001b[38;5;28mself\u001b[39m.ENRICHR_URL, \u001b[38;5;28mself\u001b[39m._organism)\n\u001b[32m    328\u001b[39m payload = {\u001b[33m\"\u001b[39m\u001b[33mlist\u001b[39m\u001b[33m\"\u001b[39m: (\u001b[38;5;28;01mNone\u001b[39;00m, gene_list), \u001b[33m\"\u001b[39m\u001b[33mdescription\u001b[39m\u001b[33m\"\u001b[39m: (\u001b[38;5;28;01mNone\u001b[39;00m, \u001b[38;5;28mself\u001b[39m.descriptions)}\n\u001b[32m--> \u001b[39m\u001b[32m329\u001b[39m job_id = \u001b[38;5;28;43mself\u001b[39;49m\u001b[43m.\u001b[49m\u001b[43msend_genes\u001b[49m\u001b[43m(\u001b[49m\u001b[43mpayload\u001b[49m\u001b[43m,\u001b[49m\u001b[43m \u001b[49m\u001b[43mADDLIST_URL\u001b[49m\u001b[43m)\u001b[49m\n\u001b[32m    330\u001b[39m user_list_id = job_id[\u001b[33m\"\u001b[39m\u001b[33muserListId\u001b[39m\u001b[33m\"\u001b[39m]\n\u001b[32m    332\u001b[39m RESULTS_URL = \u001b[33m\"\u001b[39m\u001b[38;5;132;01m%s\u001b[39;00m\u001b[33m/\u001b[39m\u001b[38;5;132;01m%s\u001b[39;00m\u001b[33m/export\u001b[39m\u001b[33m\"\u001b[39m % (\u001b[38;5;28mself\u001b[39m.ENRICHR_URL, \u001b[38;5;28mself\u001b[39m._organism)\n",
      "\u001b[36mFile \u001b[39m\u001b[32m/projectnb/bf528/students/bsandi/.conda/envs/project2_env/lib/python3.11/site-packages/gseapy/enrichr.py:213\u001b[39m, in \u001b[36mEnrichr.send_genes\u001b[39m\u001b[34m(self, payload, url)\u001b[39m\n\u001b[32m    211\u001b[39m     \u001b[38;5;28mself\u001b[39m._logger.debug(url)\n\u001b[32m    212\u001b[39m     \u001b[38;5;28mself\u001b[39m._logger.debug(payload)\n\u001b[32m--> \u001b[39m\u001b[32m213\u001b[39m     \u001b[38;5;28;01mraise\u001b[39;00m \u001b[38;5;167;01mException\u001b[39;00m(\u001b[33m\"\u001b[39m\u001b[33mError sending gene list, try again later\u001b[39m\u001b[33m\"\u001b[39m)\n\u001b[32m    214\u001b[39m job_id = json.loads(response.text)\n\u001b[32m    215\u001b[39m \u001b[38;5;66;03m# response.text\u001b[39;00m\n\u001b[32m    216\u001b[39m \u001b[38;5;66;03m# {\u001b[39;00m\n\u001b[32m    217\u001b[39m \u001b[38;5;66;03m# \t\"userListId\": 667152768,\u001b[39;00m\n\u001b[32m    218\u001b[39m \u001b[38;5;66;03m# \t\"shortId\": \"27c3f180\"\u001b[39;00m\n\u001b[32m    219\u001b[39m \u001b[38;5;66;03m# }\u001b[39;00m\n",
      "\u001b[31mException\u001b[39m: Error sending gene list, try again later"
     ]
    }
   ],
   "source": [
    "import pandas as pd\n",
    "import gseapy as gp\n",
    "import matplotlib.pyplot as plt\n",
    "\n",
    "# annotated peaks file\n",
    "annot = pd.read_csv(\"../results/annotated_peaks.txt\", sep=\"\\t\", comment='#')\n",
    "\n",
    "# Drop NA gene names and get unique ones \n",
    "genes = annot['Gene Name'].dropna().unique().tolist()\n",
    "\n",
    "# Run enrichment (you can also use 'KEGG_2021_Human', 'GO_Molecular_Function_2021', etc.)\n",
    "enr = gp.enrichr(gene_list=genes,\n",
    "                 gene_sets='GO_Biological_Process_2021',\n",
    "                 organism='Human',\n",
    "                 outdir=None,  # don't write to disk\n",
    "                 cutoff=0.05   # Adjusted p-value threshold\n",
    "                )\n",
    "\n",
    "# top 10 enriched terms as a barplot\n",
    "gp.barplot(enr.results.head(10), \n",
    "           title='Top 10 GO:BP Enriched Terms',\n",
    "           figsize=(6,5))\n",
    "plt.tight_layout()\n",
    "plt.show()\n",
    "\n",
    "enr.results.head(10)\n"
   ]
  },
  {
   "cell_type": "markdown",
   "id": "2a1ed07d",
   "metadata": {},
   "source": [
    "Gene set enrichment analysis with GSEApy, a python-based interface for Enrichr, was used to investigate biological functions associated with the RUNX-1 bound regions. The analysis started with a simple text file containing genomic regions annotated with gene names and other spatial information. This gene list was filtered to only include unique genes and submitted to Enrichr using the GO:BP 2021 gene set at an adjusted p-value threshold of 0.05 to filter for significant enrichments. The top 10 enriched biological pathways were then visualized with a boxplot, highlighting key biological pathways that are potentially regulated by the RUNX1 transcription factor in this dataset. "
   ]
  }
 ],
 "metadata": {
  "kernelspec": {
   "display_name": "Python 3",
   "language": "python",
   "name": "python3"
  },
  "language_info": {
   "codemirror_mode": {
    "name": "ipython",
    "version": 3
   },
   "file_extension": ".py",
   "mimetype": "text/x-python",
   "name": "python",
   "nbconvert_exporter": "python",
   "pygments_lexer": "ipython3",
   "version": "3.11.12"
  }
 },
 "nbformat": 4,
 "nbformat_minor": 5
}
